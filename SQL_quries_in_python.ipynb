{
  "cells": [
    {
      "cell_type": "markdown",
      "metadata": {
        "id": "view-in-github",
        "colab_type": "text"
      },
      "source": [
        "<a href=\"https://colab.research.google.com/github/chetana-vasave3/MySql/blob/main/SQL_quries_in_python.ipynb\" target=\"_parent\"><img src=\"https://colab.research.google.com/assets/colab-badge.svg\" alt=\"Open In Colab\"/></a>"
      ]
    },
    {
      "cell_type": "markdown",
      "id": "a0d19af2",
      "metadata": {
        "id": "a0d19af2"
      },
      "source": [
        "Executing SQL queries using Python\n",
        "We can use the mysql-connector-python library  to connect to relational databases and execute SQL queries."
      ]
    },
    {
      "cell_type": "code",
      "execution_count": null,
      "id": "9808f053",
      "metadata": {
        "id": "9808f053"
      },
      "outputs": [],
      "source": [
        "pip install mysql-connector-python  #to install the module"
      ]
    },
    {
      "cell_type": "code",
      "execution_count": null,
      "id": "e6837ef4",
      "metadata": {
        "id": "e6837ef4"
      },
      "outputs": [],
      "source": [
        "import mysql.connector as connector\n",
        "import pandas as pd"
      ]
    },
    {
      "cell_type": "markdown",
      "id": "001253f1",
      "metadata": {
        "id": "001253f1"
      },
      "source": [
        "- 1)Build Connection between mysql and server\n",
        "- 2)make cursor to execute quries\n",
        "- 3)execute the commands using this cursor"
      ]
    },
    {
      "cell_type": "code",
      "execution_count": null,
      "id": "ef9f1d6d",
      "metadata": {
        "scrolled": true,
        "id": "ef9f1d6d"
      },
      "outputs": [],
      "source": [
        "connection=connector.connect(user=\"root\",password=\"ipcs\",host=\"127.0.0.1\",database=\"employee\")"
      ]
    },
    {
      "cell_type": "code",
      "execution_count": null,
      "id": "5b7a43be",
      "metadata": {
        "id": "5b7a43be"
      },
      "outputs": [],
      "source": [
        "cursor=connection.cursor()"
      ]
    },
    {
      "cell_type": "markdown",
      "id": "3036685c",
      "metadata": {
        "id": "3036685c"
      },
      "source": [
        "A cursor is a control structure that allows you to interact with the database. You can use this cursor to execute SQL queries and fetch data from the database.\n",
        "\n",
        "Once this line is executed, the cursor variable will be ready to execute SQL queries on the connected MySQL database. You can use this cursor to perform actions like executing SQL queries, fetching results, and more."
      ]
    },
    {
      "cell_type": "markdown",
      "id": "c3962246",
      "metadata": {
        "id": "c3962246"
      },
      "source": [
        "fetchone() method to retrieve the next row from the result set of a database query. This method is typically used after executing a SELECT query to retrieve one row at a time from the result set."
      ]
    },
    {
      "cell_type": "code",
      "execution_count": null,
      "id": "bc72b67f",
      "metadata": {
        "id": "bc72b67f"
      },
      "outputs": [],
      "source": [
        "#closing the connection\n",
        "connection.close()"
      ]
    },
    {
      "cell_type": "markdown",
      "id": "7df93cec",
      "metadata": {
        "id": "7df93cec"
      },
      "source": [
        "### SQL queries excuting from MySQL to python using mysql.connector"
      ]
    },
    {
      "cell_type": "code",
      "execution_count": null,
      "id": "144cac8f",
      "metadata": {
        "id": "144cac8f"
      },
      "outputs": [],
      "source": [
        "import mysql.connector\n",
        "from mysql.connector import connection"
      ]
    },
    {
      "cell_type": "code",
      "execution_count": null,
      "id": "9991069a",
      "metadata": {
        "id": "9991069a"
      },
      "outputs": [],
      "source": [
        "connection=mysql.connector.connect(user=\"root\",password=\"ipcs\",host=\"127.0.0.1\",database=\"classicmodels\")"
      ]
    },
    {
      "cell_type": "code",
      "execution_count": null,
      "id": "98fd9b43",
      "metadata": {
        "id": "98fd9b43"
      },
      "outputs": [],
      "source": [
        "#creating cursor object to execute\n",
        "cursor1=connection.cursor(buffered=True)"
      ]
    },
    {
      "cell_type": "code",
      "execution_count": null,
      "id": "716b8c19",
      "metadata": {
        "id": "716b8c19"
      },
      "outputs": [],
      "source": [
        "#creating data\n",
        "drop=\"drop database if exists prathmesh\"\n",
        "cursor1.execute(drop)\n",
        "new_database=\"create database prathmesh\"\n",
        "cursor1.execute(new_database)"
      ]
    },
    {
      "cell_type": "code",
      "execution_count": null,
      "id": "50498a8b",
      "metadata": {
        "id": "50498a8b"
      },
      "outputs": [],
      "source": [
        "#use database\n",
        "use=\"use prathmesh\"\n",
        "cursor1.execute(use)\n",
        "new_table=\"create table ipcs_data(name char(20),id int,city char(20))\"\n",
        "cursor1.execute(new_table)"
      ]
    },
    {
      "cell_type": "code",
      "execution_count": null,
      "id": "b091fa1e",
      "metadata": {
        "id": "b091fa1e"
      },
      "outputs": [],
      "source": [
        "#insert values\n",
        "value1=\"insert into ipcs_data values('chetana',1,'ratnagiri')\"\n",
        "value2=\"\"\"insert into ipcs_data values(\"bicky\",5,\"gadchiroli\")\"\"\"\n",
        "value3=\"\"\"insert into ipcs_data values(\"adarsh\",2,\"nagpur\")\"\"\""
      ]
    },
    {
      "cell_type": "code",
      "execution_count": null,
      "id": "a410049e",
      "metadata": {
        "id": "a410049e"
      },
      "outputs": [],
      "source": [
        "cursor1.execute(value1)\n",
        "cursor1.execute(value2)\n",
        "cursor1.execute(value3)"
      ]
    },
    {
      "cell_type": "code",
      "execution_count": null,
      "id": "320839e7",
      "metadata": {
        "id": "320839e7"
      },
      "outputs": [],
      "source": [
        "connection.commit()"
      ]
    },
    {
      "cell_type": "code",
      "execution_count": null,
      "id": "437b3df0",
      "metadata": {
        "id": "437b3df0"
      },
      "outputs": [],
      "source": [
        "update=\"\"\"update ipcs_data set name=\"trupti\" where id=1\"\"\"\n",
        "cursor1.execute(update)"
      ]
    },
    {
      "cell_type": "code",
      "execution_count": null,
      "id": "f722abc5",
      "metadata": {
        "id": "f722abc5"
      },
      "outputs": [],
      "source": [
        "connection.commit()"
      ]
    },
    {
      "cell_type": "code",
      "execution_count": null,
      "id": "265c2d2d",
      "metadata": {
        "id": "265c2d2d"
      },
      "outputs": [],
      "source": [
        "#creating new database\n",
        "drop=\"drop database if exists adarsh\"\n",
        "cursor1.execute(drop)\n",
        "new_database=\"create database adarsh\"\n",
        "cursor1.execute(new_database)"
      ]
    },
    {
      "cell_type": "code",
      "execution_count": null,
      "id": "73c69a3a",
      "metadata": {
        "id": "73c69a3a"
      },
      "outputs": [],
      "source": [
        "select=\"select * from ipcs_data\"\n",
        "cursor1.execute(select)"
      ]
    },
    {
      "cell_type": "code",
      "execution_count": null,
      "id": "a38caa93",
      "metadata": {
        "id": "a38caa93"
      },
      "outputs": [],
      "source": [
        "x=cursor1.fetchall()"
      ]
    },
    {
      "cell_type": "code",
      "execution_count": null,
      "id": "6d297438",
      "metadata": {
        "id": "6d297438",
        "outputId": "853b5b1b-1d92-4dff-e9e9-7c4120fdb961"
      },
      "outputs": [
        {
          "data": {
            "text/plain": [
              "[('trupti', 1, 'ratnagiri'),\n",
              " ('bicky', 5, 'gadchiroli'),\n",
              " ('adarsh', 2, 'nagpur')]"
            ]
          },
          "execution_count": 27,
          "metadata": {},
          "output_type": "execute_result"
        }
      ],
      "source": [
        "x"
      ]
    },
    {
      "cell_type": "code",
      "execution_count": null,
      "id": "d14f46e0",
      "metadata": {
        "id": "d14f46e0"
      },
      "outputs": [],
      "source": [
        "#use database\n",
        "use_database=cursor1.execute(\"use adarsh\")\n",
        "cursor1.execute(use_database)\n",
        "#creating table\n",
        "drop=cursor1.execute(\"drop table if exists ipcs_data\")\n",
        "cursor1.execute(drop)\n",
        "new_table=cursor1.execute(\"\"\"create table ipcs_data(Name varchar(25), ID int, course_name varchar(25),duration_months int)\"\"\")\n",
        ""
      ]
    },
    {
      "cell_type": "code",
      "execution_count": null,
      "id": "12fc09a3",
      "metadata": {
        "id": "12fc09a3"
      },
      "outputs": [],
      "source": [
        "values=\"\"\"insert into ipcs_data values(\"trupti\",2,\"data analysis\",4)\"\"\""
      ]
    },
    {
      "cell_type": "code",
      "execution_count": null,
      "id": "b678caad",
      "metadata": {
        "id": "b678caad"
      },
      "outputs": [],
      "source": [
        "value2=\"\"\"insert into ipcs_data values(\"sarthak\",3,\"data science\",6)\"\"\""
      ]
    },
    {
      "cell_type": "code",
      "execution_count": null,
      "id": "9fa68fc9",
      "metadata": {
        "id": "9fa68fc9"
      },
      "outputs": [],
      "source": [
        "value3=\"\"\"insert into ipcs_data values(\"bicky\",4,\"data science\",4)\"\"\""
      ]
    },
    {
      "cell_type": "code",
      "execution_count": null,
      "id": "455284ad",
      "metadata": {
        "id": "455284ad"
      },
      "outputs": [],
      "source": [
        "cursor1.execute(value3)"
      ]
    },
    {
      "cell_type": "code",
      "execution_count": null,
      "id": "ec06c1ee",
      "metadata": {
        "id": "ec06c1ee"
      },
      "outputs": [],
      "source": [
        "cursor1.execute(values)"
      ]
    },
    {
      "cell_type": "code",
      "execution_count": null,
      "id": "eba87cd1",
      "metadata": {
        "id": "eba87cd1"
      },
      "outputs": [],
      "source": [
        "cursor1.execute(value2)"
      ]
    },
    {
      "cell_type": "code",
      "execution_count": null,
      "id": "44b3c2e4",
      "metadata": {
        "id": "44b3c2e4"
      },
      "outputs": [],
      "source": [
        "connection.commit()"
      ]
    },
    {
      "cell_type": "code",
      "execution_count": null,
      "id": "a5aa5cf9",
      "metadata": {
        "id": "a5aa5cf9"
      },
      "outputs": [],
      "source": [
        "#closing the connection\n",
        "connection.close()"
      ]
    },
    {
      "cell_type": "code",
      "execution_count": null,
      "id": "4ecebbef",
      "metadata": {
        "id": "4ecebbef",
        "outputId": "bb45f461-f113-492a-b631-04604aa59c11"
      },
      "outputs": [
        {
          "ename": "ProgrammingError",
          "evalue": "1146 (42S02): Table 'classicmodels.ipcs_data' doesn't exist",
          "output_type": "error",
          "traceback": [
            "\u001b[1;31m---------------------------------------------------------------------------\u001b[0m",
            "\u001b[1;31mMySQLInterfaceError\u001b[0m                       Traceback (most recent call last)",
            "File \u001b[1;32m~\\anaconda3\\Lib\\site-packages\\mysql\\connector\\connection_cext.py:639\u001b[0m, in \u001b[0;36mCMySQLConnection.cmd_query\u001b[1;34m(self, query, raw, buffered, raw_as_string)\u001b[0m\n\u001b[0;32m    638\u001b[0m         query \u001b[38;5;241m=\u001b[39m query\u001b[38;5;241m.\u001b[39mencode(\u001b[38;5;124m\"\u001b[39m\u001b[38;5;124mutf-8\u001b[39m\u001b[38;5;124m\"\u001b[39m)\n\u001b[1;32m--> 639\u001b[0m     \u001b[38;5;28mself\u001b[39m\u001b[38;5;241m.\u001b[39m_cmysql\u001b[38;5;241m.\u001b[39mquery(\n\u001b[0;32m    640\u001b[0m         query,\n\u001b[0;32m    641\u001b[0m         raw\u001b[38;5;241m=\u001b[39mraw,\n\u001b[0;32m    642\u001b[0m         buffered\u001b[38;5;241m=\u001b[39mbuffered,\n\u001b[0;32m    643\u001b[0m         raw_as_string\u001b[38;5;241m=\u001b[39mraw_as_string,\n\u001b[0;32m    644\u001b[0m         query_attrs\u001b[38;5;241m=\u001b[39m\u001b[38;5;28mself\u001b[39m\u001b[38;5;241m.\u001b[39mquery_attrs,\n\u001b[0;32m    645\u001b[0m     )\n\u001b[0;32m    646\u001b[0m \u001b[38;5;28;01mexcept\u001b[39;00m MySQLInterfaceError \u001b[38;5;28;01mas\u001b[39;00m err:\n",
            "\u001b[1;31mMySQLInterfaceError\u001b[0m: Table 'classicmodels.ipcs_data' doesn't exist",
            "\nThe above exception was the direct cause of the following exception:\n",
            "\u001b[1;31mProgrammingError\u001b[0m                          Traceback (most recent call last)",
            "Cell \u001b[1;32mIn[75], line 2\u001b[0m\n\u001b[0;32m      1\u001b[0m select\u001b[38;5;241m=\u001b[39m\u001b[38;5;124m\"\u001b[39m\u001b[38;5;124mselect * from ipcs_data\u001b[39m\u001b[38;5;124m\"\u001b[39m\n\u001b[1;32m----> 2\u001b[0m cursor1\u001b[38;5;241m.\u001b[39mexecute(select)\n\u001b[0;32m      3\u001b[0m x\u001b[38;5;241m=\u001b[39mcursor1\u001b[38;5;241m.\u001b[39mfetchall()\n",
            "File \u001b[1;32m~\\anaconda3\\Lib\\site-packages\\mysql\\connector\\cursor_cext.py:330\u001b[0m, in \u001b[0;36mCMySQLCursor.execute\u001b[1;34m(self, operation, params, multi)\u001b[0m\n\u001b[0;32m    325\u001b[0m             \u001b[38;5;28;01mraise\u001b[39;00m ProgrammingError(\n\u001b[0;32m    326\u001b[0m                 \u001b[38;5;124m\"\u001b[39m\u001b[38;5;124mNot all parameters were used in the SQL statement\u001b[39m\u001b[38;5;124m\"\u001b[39m\n\u001b[0;32m    327\u001b[0m             )\n\u001b[0;32m    329\u001b[0m \u001b[38;5;28;01mtry\u001b[39;00m:\n\u001b[1;32m--> 330\u001b[0m     result \u001b[38;5;241m=\u001b[39m \u001b[38;5;28mself\u001b[39m\u001b[38;5;241m.\u001b[39m_cnx\u001b[38;5;241m.\u001b[39mcmd_query(\n\u001b[0;32m    331\u001b[0m         stmt,\n\u001b[0;32m    332\u001b[0m         raw\u001b[38;5;241m=\u001b[39m\u001b[38;5;28mself\u001b[39m\u001b[38;5;241m.\u001b[39m_raw,\n\u001b[0;32m    333\u001b[0m         buffered\u001b[38;5;241m=\u001b[39m\u001b[38;5;28mself\u001b[39m\u001b[38;5;241m.\u001b[39m_buffered,\n\u001b[0;32m    334\u001b[0m         raw_as_string\u001b[38;5;241m=\u001b[39m\u001b[38;5;28mself\u001b[39m\u001b[38;5;241m.\u001b[39m_raw_as_string,\n\u001b[0;32m    335\u001b[0m     )\n\u001b[0;32m    336\u001b[0m \u001b[38;5;28;01mexcept\u001b[39;00m MySQLInterfaceError \u001b[38;5;28;01mas\u001b[39;00m err:\n\u001b[0;32m    337\u001b[0m     \u001b[38;5;28;01mraise\u001b[39;00m get_mysql_exception(\n\u001b[0;32m    338\u001b[0m         msg\u001b[38;5;241m=\u001b[39merr\u001b[38;5;241m.\u001b[39mmsg, errno\u001b[38;5;241m=\u001b[39merr\u001b[38;5;241m.\u001b[39merrno, sqlstate\u001b[38;5;241m=\u001b[39merr\u001b[38;5;241m.\u001b[39msqlstate\n\u001b[0;32m    339\u001b[0m     ) \u001b[38;5;28;01mfrom\u001b[39;00m \u001b[38;5;21;01merr\u001b[39;00m\n",
            "File \u001b[1;32m~\\anaconda3\\Lib\\site-packages\\mysql\\connector\\opentelemetry\\context_propagation.py:77\u001b[0m, in \u001b[0;36mwith_context_propagation.<locals>.wrapper\u001b[1;34m(cnx, *args, **kwargs)\u001b[0m\n\u001b[0;32m     75\u001b[0m \u001b[38;5;250m\u001b[39m\u001b[38;5;124;03m\"\"\"Context propagation decorator.\"\"\"\u001b[39;00m\n\u001b[0;32m     76\u001b[0m \u001b[38;5;28;01mif\u001b[39;00m \u001b[38;5;129;01mnot\u001b[39;00m OTEL_ENABLED \u001b[38;5;129;01mor\u001b[39;00m \u001b[38;5;129;01mnot\u001b[39;00m cnx\u001b[38;5;241m.\u001b[39motel_context_propagation:\n\u001b[1;32m---> 77\u001b[0m     \u001b[38;5;28;01mreturn\u001b[39;00m method(cnx, \u001b[38;5;241m*\u001b[39margs, \u001b[38;5;241m*\u001b[39m\u001b[38;5;241m*\u001b[39mkwargs)\n\u001b[0;32m     79\u001b[0m current_span \u001b[38;5;241m=\u001b[39m trace\u001b[38;5;241m.\u001b[39mget_current_span()\n\u001b[0;32m     80\u001b[0m tp_header \u001b[38;5;241m=\u001b[39m \u001b[38;5;28;01mNone\u001b[39;00m\n",
            "File \u001b[1;32m~\\anaconda3\\Lib\\site-packages\\mysql\\connector\\connection_cext.py:647\u001b[0m, in \u001b[0;36mCMySQLConnection.cmd_query\u001b[1;34m(self, query, raw, buffered, raw_as_string)\u001b[0m\n\u001b[0;32m    639\u001b[0m     \u001b[38;5;28mself\u001b[39m\u001b[38;5;241m.\u001b[39m_cmysql\u001b[38;5;241m.\u001b[39mquery(\n\u001b[0;32m    640\u001b[0m         query,\n\u001b[0;32m    641\u001b[0m         raw\u001b[38;5;241m=\u001b[39mraw,\n\u001b[1;32m   (...)\u001b[0m\n\u001b[0;32m    644\u001b[0m         query_attrs\u001b[38;5;241m=\u001b[39m\u001b[38;5;28mself\u001b[39m\u001b[38;5;241m.\u001b[39mquery_attrs,\n\u001b[0;32m    645\u001b[0m     )\n\u001b[0;32m    646\u001b[0m \u001b[38;5;28;01mexcept\u001b[39;00m MySQLInterfaceError \u001b[38;5;28;01mas\u001b[39;00m err:\n\u001b[1;32m--> 647\u001b[0m     \u001b[38;5;28;01mraise\u001b[39;00m get_mysql_exception(\n\u001b[0;32m    648\u001b[0m         err\u001b[38;5;241m.\u001b[39merrno, msg\u001b[38;5;241m=\u001b[39merr\u001b[38;5;241m.\u001b[39mmsg, sqlstate\u001b[38;5;241m=\u001b[39merr\u001b[38;5;241m.\u001b[39msqlstate\n\u001b[0;32m    649\u001b[0m     ) \u001b[38;5;28;01mfrom\u001b[39;00m \u001b[38;5;21;01merr\u001b[39;00m\n\u001b[0;32m    650\u001b[0m \u001b[38;5;28;01mexcept\u001b[39;00m \u001b[38;5;167;01mAttributeError\u001b[39;00m \u001b[38;5;28;01mas\u001b[39;00m err:\n\u001b[0;32m    651\u001b[0m     addr \u001b[38;5;241m=\u001b[39m (\n\u001b[0;32m    652\u001b[0m         \u001b[38;5;28mself\u001b[39m\u001b[38;5;241m.\u001b[39m_unix_socket \u001b[38;5;28;01mif\u001b[39;00m \u001b[38;5;28mself\u001b[39m\u001b[38;5;241m.\u001b[39m_unix_socket \u001b[38;5;28;01melse\u001b[39;00m \u001b[38;5;124mf\u001b[39m\u001b[38;5;124m\"\u001b[39m\u001b[38;5;132;01m{\u001b[39;00m\u001b[38;5;28mself\u001b[39m\u001b[38;5;241m.\u001b[39m_host\u001b[38;5;132;01m}\u001b[39;00m\u001b[38;5;124m:\u001b[39m\u001b[38;5;132;01m{\u001b[39;00m\u001b[38;5;28mself\u001b[39m\u001b[38;5;241m.\u001b[39m_port\u001b[38;5;132;01m}\u001b[39;00m\u001b[38;5;124m\"\u001b[39m\n\u001b[0;32m    653\u001b[0m     )\n",
            "\u001b[1;31mProgrammingError\u001b[0m: 1146 (42S02): Table 'classicmodels.ipcs_data' doesn't exist"
          ]
        }
      ],
      "source": [
        "select=\"select * from ipcs_data\"\n",
        "cursor1.execute(select)\n",
        "x=cursor1.fetchall()"
      ]
    },
    {
      "cell_type": "code",
      "execution_count": null,
      "id": "34920d4e",
      "metadata": {
        "id": "34920d4e",
        "outputId": "4b581eac-2b97-420a-886d-c0f34b465b0a"
      },
      "outputs": [
        {
          "data": {
            "text/plain": [
              "[('bicky', 4, 'data science', 4),\n",
              " ('trupti', 2, 'data analysis', 4),\n",
              " ('sarthak', 3, 'data science', 6)]"
            ]
          },
          "execution_count": 71,
          "metadata": {},
          "output_type": "execute_result"
        }
      ],
      "source": [
        "x"
      ]
    },
    {
      "cell_type": "code",
      "execution_count": null,
      "id": "7acf06ca",
      "metadata": {
        "id": "7acf06ca"
      },
      "outputs": [],
      "source": [
        "import pandas as pd"
      ]
    },
    {
      "cell_type": "code",
      "execution_count": null,
      "id": "434c98d0",
      "metadata": {
        "id": "434c98d0"
      },
      "outputs": [],
      "source": [
        "data=pd.DataFrame(x, columns=[\"name\",\"ID\",\"Course_name\",\"Duration\"])"
      ]
    },
    {
      "cell_type": "code",
      "execution_count": null,
      "id": "a0e2d23f",
      "metadata": {
        "id": "a0e2d23f",
        "outputId": "10ed4e8e-5b5a-4184-c445-b920b9921ae9"
      },
      "outputs": [
        {
          "data": {
            "text/html": [
              "<div>\n",
              "<style scoped>\n",
              "    .dataframe tbody tr th:only-of-type {\n",
              "        vertical-align: middle;\n",
              "    }\n",
              "\n",
              "    .dataframe tbody tr th {\n",
              "        vertical-align: top;\n",
              "    }\n",
              "\n",
              "    .dataframe thead th {\n",
              "        text-align: right;\n",
              "    }\n",
              "</style>\n",
              "<table border=\"1\" class=\"dataframe\">\n",
              "  <thead>\n",
              "    <tr style=\"text-align: right;\">\n",
              "      <th></th>\n",
              "      <th>name</th>\n",
              "      <th>ID</th>\n",
              "      <th>Course_name</th>\n",
              "      <th>Duration</th>\n",
              "    </tr>\n",
              "  </thead>\n",
              "  <tbody>\n",
              "    <tr>\n",
              "      <th>0</th>\n",
              "      <td>trupti</td>\n",
              "      <td>2</td>\n",
              "      <td>data analysis</td>\n",
              "      <td>4</td>\n",
              "    </tr>\n",
              "    <tr>\n",
              "      <th>1</th>\n",
              "      <td>sarthak</td>\n",
              "      <td>3</td>\n",
              "      <td>data science</td>\n",
              "      <td>6</td>\n",
              "    </tr>\n",
              "    <tr>\n",
              "      <th>2</th>\n",
              "      <td>bicky</td>\n",
              "      <td>4</td>\n",
              "      <td>data science</td>\n",
              "      <td>4</td>\n",
              "    </tr>\n",
              "  </tbody>\n",
              "</table>\n",
              "</div>"
            ],
            "text/plain": [
              "      name  ID    Course_name  Duration\n",
              "0   trupti   2  data analysis         4\n",
              "1  sarthak   3   data science         6\n",
              "2    bicky   4   data science         4"
            ]
          },
          "execution_count": 34,
          "metadata": {},
          "output_type": "execute_result"
        }
      ],
      "source": [
        "data"
      ]
    },
    {
      "cell_type": "code",
      "execution_count": null,
      "id": "eed3b793",
      "metadata": {
        "id": "eed3b793"
      },
      "outputs": [],
      "source": [
        "connection=mysql.connector.connect(user=\"root\",password=\"ipcs\",host=\"127.0.0.1\",database=\"adarsh\")"
      ]
    },
    {
      "cell_type": "code",
      "execution_count": null,
      "id": "b12f2bd7",
      "metadata": {
        "id": "b12f2bd7"
      },
      "outputs": [],
      "source": [
        "#creating cursor object to execute\n",
        "cursor2=connection.cursor(buffered=True)"
      ]
    },
    {
      "cell_type": "code",
      "execution_count": null,
      "id": "bb32bc26",
      "metadata": {
        "id": "bb32bc26",
        "outputId": "15633ed0-4cde-4289-fc47-e8246c0e1e68"
      },
      "outputs": [
        {
          "data": {
            "text/plain": [
              "[('ipcs_data',)]"
            ]
          },
          "execution_count": 82,
          "metadata": {},
          "output_type": "execute_result"
        }
      ],
      "source": [
        "select=\"show tables\"\n",
        "cursor2.execute(select)\n",
        "x=cursor2.fetchall()\n",
        "x"
      ]
    },
    {
      "cell_type": "code",
      "execution_count": null,
      "id": "18cb6e31",
      "metadata": {
        "id": "18cb6e31"
      },
      "outputs": [],
      "source": [
        "select=\"select * from ipcs_data\"\n",
        "cursor2.execute(select)\n",
        "x=cursor2.fetchall()"
      ]
    },
    {
      "cell_type": "code",
      "execution_count": null,
      "id": "a8b10a83",
      "metadata": {
        "id": "a8b10a83",
        "outputId": "7f5ef0f7-85e5-402b-917a-3a7f34607a8c"
      },
      "outputs": [
        {
          "data": {
            "text/plain": [
              "[('bicky', 4, 'data science', 4),\n",
              " ('trupti', 2, 'data analysis', 4),\n",
              " ('sarthak', 3, 'data science', 6),\n",
              " ('shweta', 10, 'python', 6)]"
            ]
          },
          "execution_count": 84,
          "metadata": {},
          "output_type": "execute_result"
        }
      ],
      "source": [
        "x"
      ]
    },
    {
      "cell_type": "code",
      "execution_count": null,
      "id": "36711a70",
      "metadata": {
        "id": "36711a70"
      },
      "outputs": [],
      "source": []
    }
  ],
  "metadata": {
    "kernelspec": {
      "display_name": "Python 3 (ipykernel)",
      "language": "python",
      "name": "python3"
    },
    "language_info": {
      "codemirror_mode": {
        "name": "ipython",
        "version": 3
      },
      "file_extension": ".py",
      "mimetype": "text/x-python",
      "name": "python",
      "nbconvert_exporter": "python",
      "pygments_lexer": "ipython3",
      "version": "3.11.3"
    },
    "colab": {
      "provenance": [],
      "include_colab_link": true
    }
  },
  "nbformat": 4,
  "nbformat_minor": 5
}